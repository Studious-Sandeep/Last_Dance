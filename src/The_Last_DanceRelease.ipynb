{
  "nbformat": 4,
  "nbformat_minor": 0,
  "metadata": {
    "colab": {
      "name": "The Last Dance Final Release ",
      "provenance": [],
      "collapsed_sections": []
    },
    "kernelspec": {
      "name": "python3",
      "display_name": "Python 3"
    }
  },
  "cells": [
    {
      "cell_type": "markdown",
      "metadata": {
        "id": "-nNxBQILzrSU"
      },
      "source": [
        "# CMSC 636 Data Visualization - Fall 2020\n",
        "\n",
        "## The Last Dance: Legitimizing Event-Driven Analysis of the Air Jordan Sneaker Secondary Market\n",
        "\n",
        "By: Sandeep Bansal, Atal Mutyala, Mansi Patil, Alex Pratte, Amanda Ross, Ben\n",
        "Roytenberg\n",
        "\n"
      ]
    },
    {
      "cell_type": "code",
      "metadata": {
        "id": "EqEiS3lHy-38"
      },
      "source": [
        "#@title Modules and classes required for this notebook to work (Run me!)\n",
        "import pandas as pd\n",
        "import urllib.parse\n",
        "import requests\n",
        "import random\n",
        "import time\n",
        "import datetime\n",
        "import numpy as np\n",
        "import matplotlib.pyplot as plot\n",
        "%matplotlib inline\n",
        "plot.rcParams['figure.figsize'] = [25, 10]\n",
        "class ansi_colors:\n",
        "    ERROR = \"\\033[91m\"\n",
        "    INFO  = \"\\u001b[35m\"\n",
        "    OK    = \"\\u001b[32m\"\n",
        "    RESET = \"\\033[0m\""
      ],
      "execution_count": 4,
      "outputs": []
    },
    {
      "cell_type": "markdown",
      "metadata": {
        "id": "K5xdp8rcz4Tv"
      },
      "source": [
        "### Step 1: Pick Your Sneakers\n",
        "\n",
        "The data used for this market analysis tool is directly pulled from StockX's public API. You can search directly by running and interacting with the cell below, **OR** run the cell below to import your data from a .csv file.\n",
        "\n",
        "**WARNING**: The StockX public API is _heavily_ rate limited. If you intend to query for a lot of different sneakers, checkpointing is easily handled when running locally, but _not as easily_ when running on Google Colaboratory. \n",
        "\n",
        "* If you get a rate limiting error when running locally, visit https://stockx.com, and solve the PerimeterX challenge before proceeding. \n",
        "\n",
        "* If running on Google Colaboratory, export this notebook, and reopen it separately from Google Drive. If your external IP changes from the Troubleshooting cell between notebooks, then you should be able to resolve it."
      ]
    },
    {
      "cell_type": "code",
      "metadata": {
        "id": "aZzEPS22zEWb",
        "cellView": "form",
        "colab": {
          "base_uri": "https://localhost:8080/"
        },
        "outputId": "757c7a3e-cd5e-4a42-9f62-1c7f089e695c"
      },
      "source": [
        "#@title StockX Import Wizard (Run me!)\n",
        "# Important things for later, mostly black magic\n",
        "bypass = {'user-agent' : 'Mozilla/5.0 (X11; Linux x86_64) AppleWebKit/537.36 (KHTML, like Gecko) Chrome/85.0.4183.121 Safari/537.36'}\n",
        "# calculate date away from September 30, 2020\n",
        "september_30_2020 = datetime.date(2020, 9, 30)\n",
        "def n_days_away(day_0, n):\n",
        "   delta = datetime.timedelta(days = n)\n",
        "   return day_0-delta\n",
        "date_list = []\n",
        "for i in range(0, 366):\n",
        "    date_list.append(n_days_away(september_30_2020, i).strftime(\"%m-%d-%y\"))\n",
        "#cols = ['model_number', 'canonical_name', 'colorway', 'silhouette', 'gender', 'release_date', 'retail_price', 'product_url'] + list(map(str, list(range(0,366))[::-1]))\n",
        "cols = ['model_number', 'canonical_name', 'colorway', 'silhouette', 'gender', 'release_date', 'retail_price', 'product_url'] + date_list[::-1]\n",
        "# Initialize dataframe with our column names, will be accessible in later cells\n",
        "df = pd.DataFrame(columns=cols)\n",
        "# First prompt and gather of user input\n",
        "print(f\"{ansi_colors.INFO}Step 1: Pick Your Sneakers{ansi_colors.RESET}\")\n",
        "print(\"Type `exit` at any time to end execution of this cell and continue to Step 2.\\n\")\n",
        "print(f\"Enter some search terms to explore the {ansi_colors.OK}StockX{ansi_colors.RESET} product API:\")\n",
        "query = input()\n",
        "print()\n",
        "# Event loop\n",
        "while query.strip().lower() != \"exit\":\n",
        "  # URL encode the query\n",
        "  urlenc = urllib.parse.quote(query)\n",
        "  # GET our data from /browse/\n",
        "  url_template = f'https://stockx.com/api/browse?_search={urlenc}&_tags=air%20jordan&productCategory=sneakers&order=DESC&page=1&dataType=product'\n",
        "  resp = requests.get(url_template, headers=bypass)\n",
        "  # Check if rate limited\n",
        "  try:\n",
        "    # This errors out if you get stuck at a checkpoint, since the body would be HTML\n",
        "    browse_data = resp.json()\n",
        "    page_lim = browse_data.get(\"Pagination\").get(\"limit\")\n",
        "    num_matched = browse_data.get(\"Pagination\").get(\"total\")\n",
        "    # Print out products found in search (if there are any)\n",
        "    products = browse_data.get(\"Products\")\n",
        "    if len(products) != 0:\n",
        "      print(f\"{ansi_colors.OK}   Success!{ansi_colors.RESET} Showing {page_lim} of {num_matched} results:\\n\")\n",
        "      for i in range(0, len(products)):\n",
        "        name = products[i].get(\"title\")\n",
        "        if products[i].get(\"releaseDate\"):\n",
        "          rdate = \"released \" + products[i].get(\"releaseDate\")[:10]\n",
        "        else:\n",
        "          rdate = ansi_colors.ERROR + \"no release date\" + ansi_colors.RESET\n",
        "        print(f\"{ansi_colors.INFO}{i+1}.{ansi_colors.RESET} {name} ({rdate})\")\n",
        "      print()\n",
        "      # Query for a choice to be written to the dataframe\n",
        "      print(\"Please input your choice, or `search` to return to search:\")\n",
        "      choice = input()\n",
        "      invalid = True\n",
        "      # Check bounds on choices\n",
        "      while invalid:\n",
        "        try:\n",
        "          num = int(choice)\n",
        "          if num > len(products) or num < 1:\n",
        "            print(f\"{ansi_colors.ERROR}ERROR:{ansi_colors.RESET} Invalid selection. Please choose a number between 1 and {len(products)}\")\n",
        "            choice = input()\n",
        "          else:\n",
        "            invalid = False\n",
        "        except:\n",
        "          if choice == \"search\":\n",
        "            invalid = False\n",
        "          else:\n",
        "            print(f\"{ansi_colors.ERROR}ERROR:{ansi_colors.RESET} Invalid selection. Please choose a number between 1 and {len(products)}, or `search` to return to search\")\n",
        "            choice = input()\n",
        "      if choice.strip().lower() == \"search\":\n",
        "        pass\n",
        "      else:\n",
        "        choice = int(choice)\n",
        "        uuid = products[choice-1].get('uuid')\n",
        "        # Need to patch in date selection later...\n",
        "        market_history_url = f'https://stockx.com/api/products/{uuid}/chart?start_date=2019-10-01&end_date=2020-10-01&intervals=366&currency=USD&country=US'\n",
        "        market_data = requests.get(market_history_url, headers=bypass).json().get('series')[0].get('data')\n",
        "        row = [products[choice-1].get(\"category\"), \n",
        "                products[choice-1].get('name'),\n",
        "                products[choice-1].get('colorway'),\n",
        "                products[choice-1].get('shoe'),\n",
        "                products[choice-1].get('gender'), \n",
        "                products[choice-1].get('releaseDate'),\n",
        "                products[choice-1].get('retailPrice'),\n",
        "                'https://stockx.com/' + products[choice-1].get('urlKey')] + market_data\n",
        "        df = df.append(pd.Series(row, index=df.columns), ignore_index=True)\n",
        "        print()\n",
        "        print(f\"{ansi_colors.OK}It's in!{ansi_colors.INFO} {products[choice-1].get('title')}{ansi_colors.RESET} has been added to the dataframe.\\n\")\n",
        "    else:\n",
        "      print(f\"No search results found for {query}. Returning to search...\")\n",
        "  except:\n",
        "    print(f\"{ansi_colors.ERROR}ERROR:{ansi_colors.RESET} rate limited. Visit https://stockx.com to solve the challenge, and try again...\\n\")\n",
        "    time.sleep(3)\n",
        "  print(f\"Enter some search terms to explore the {ansi_colors.OK}StockX{ansi_colors.RESET} product API:\")\n",
        "  query = input()\n",
        "  print()\n",
        "print(f\"{ansi_colors.INFO}Thank you for completing this step. Here is a sneak peek at your dataframe:{ansi_colors.RESET}\")\n",
        "df.to_csv('your_sneaker_data.csv') \n",
        "df.head()"
      ],
      "execution_count": null,
      "outputs": [
        {
          "output_type": "stream",
          "name": "stdout",
          "text": [
            "\u001b[35mStep 1: Pick Your Sneakers\u001b[0m\n",
            "Type `exit` at any time to end execution of this cell and continue to Step 2.\n",
            "\n",
            "Enter some search terms to explore the \u001b[32mStockX\u001b[0m product API:\n",
            "3\n",
            "\n",
            "\u001b[32m   Success!\u001b[0m Showing 40 of 1997 results:\n",
            "\n",
            "\u001b[35m1.\u001b[0m Jordan 3 Retro Racer Blue (released 2021-07-10)\n",
            "\u001b[35m2.\u001b[0m Jordan 3 Retro Georgetown (2021) (released 2021-03-20)\n",
            "\u001b[35m3.\u001b[0m Jordan 3 Retro Racer Blue (GS) (released 2021-07-10)\n",
            "\u001b[35m4.\u001b[0m Jordan 4 Retro SP 30th Anniversary Union Desert Moss (released 2021-06-24)\n",
            "\u001b[35m5.\u001b[0m Jordan 3 Retro Cool Grey (2021) (released 2021-02-20)\n",
            "\u001b[35m6.\u001b[0m Jordan 3 Retro A Ma Maniére (W) (released 2021-06-10)\n",
            "\u001b[35m7.\u001b[0m Jordan 3 Retro Fragment (released 2020-09-17)\n",
            "\u001b[35m8.\u001b[0m Jordan 3 Retro Rust Pink (W) (released 2021-05-28)\n",
            "\u001b[35m9.\u001b[0m Jordan 1 Retro High Shattered Backboard 3.0 (released 2019-10-26)\n",
            "\u001b[35m10.\u001b[0m Jordan 36 SE Luka Doncic PE (released 2021-09-04)\n",
            "\u001b[35m11.\u001b[0m Jordan 3 Retro SE Fire Red Denim (2020) (released 2020-08-27)\n",
            "\u001b[35m12.\u001b[0m Jordan 3 Retro SE Unite Fire Red (released 2020-02-15)\n",
            "\u001b[35m13.\u001b[0m Jordan 3 Retro Varsity Royal Cement (released 2020-10-10)\n",
            "\u001b[35m14.\u001b[0m Jordan 3 Retro Georgetown 2021 (GS) (released 2021-01-15)\n",
            "\u001b[35m15.\u001b[0m Jordan 1 Retro High Shattered Backboard 3.0 (GS) (released 2019-10-26)\n",
            "\u001b[35m16.\u001b[0m Jordan 5 Retro Top 3 (released 2020-06-20)\n",
            "\u001b[35m17.\u001b[0m Jordan 3 Retro Black Cement (2018) (released 2018-02-17)\n",
            "\u001b[35m18.\u001b[0m Jordan 3 Retro Laser Orange (W) (released 2020-08-21)\n",
            "\u001b[35m19.\u001b[0m Jordan 3 Retro Cool Grey 2021 (GS) (released 2021-01-30)\n",
            "\u001b[35m20.\u001b[0m Jordan 3 Retro UNC (2020) (released 2020-03-07)\n",
            "\u001b[35m21.\u001b[0m Jordan 3 Retro True Blue (2016) (released 2016-11-25)\n",
            "\u001b[35m22.\u001b[0m Jordan 3 Retro Tinker Black Cement Gold (released 2019-07-27)\n",
            "\u001b[35m23.\u001b[0m Jordan 3 Retro Racer Blue (TD) (released 2021-07-10)\n",
            "\u001b[35m24.\u001b[0m Jordan 3 Retro SE Animal Instinct (released 2019-12-19)\n",
            "\u001b[35m25.\u001b[0m Jordan 3 Retro Pine Green (released 2021-11-13)\n",
            "\u001b[35m26.\u001b[0m Jordan 3 Retro Black Court Purple (released 2020-11-21)\n",
            "\u001b[35m27.\u001b[0m Jordan 3 Retro A Ma Maniére (TD) (released 2021-06-10)\n",
            "\u001b[35m28.\u001b[0m Jordan 36 White Metallic Gold (\u001b[91mno release date\u001b[0m)\n",
            "\u001b[35m29.\u001b[0m Jordan XXXV Low Cosmic Deception Luka Doncic PE (\u001b[91mno release date\u001b[0m)\n",
            "\u001b[35m30.\u001b[0m Jordan 3 Retro Racer Blue (PS) (released 2021-07-10)\n",
            "\u001b[35m31.\u001b[0m Jordan 3 Retro Tinker Hatfield (released 2018-03-24)\n",
            "\u001b[35m32.\u001b[0m Jordan 3 Retro Hall of Fame (released 2018-05-12)\n",
            "\u001b[35m33.\u001b[0m Jordan 4 Retro SP 30th Anniversary Union Taupe Haze (released 2021-06-20)\n",
            "\u001b[35m34.\u001b[0m Jordan 3 Retro SE Fire Red Denim (GS) (released 2020-08-27)\n",
            "\u001b[35m35.\u001b[0m Jordan 3 Retro Fire Red Cement (Nike Chi) (released 2020-02-22)\n",
            "\u001b[35m36.\u001b[0m Air Jordan XXXV Bayou Boys (released 2020-11-21)\n",
            "\u001b[35m37.\u001b[0m Jordan 3 Retro Barely Grape (GS) (released 2020-01-04)\n",
            "\u001b[35m38.\u001b[0m Jordan XXXV Center of Gravity (released 2020-10-17)\n",
            "\u001b[35m39.\u001b[0m Jordan 5 Retro Top 3 (GS) (released 2020-06-20)\n",
            "\u001b[35m40.\u001b[0m Jordan 3 Retro Chlorophyll (released 2018-11-10)\n",
            "\n",
            "Please input your choice, or `search` to return to search:\n"
          ]
        }
      ]
    },
    {
      "cell_type": "code",
      "metadata": {
        "id": "t6UnsmLqS7cJ"
      },
      "source": [
        "#@title Import Data (Run me if you didn't use the wizard)\n",
        "filename = 'your_sneaker_data.csv' #@param {type:\"string\"}\n",
        "df = pd.read_csv(filename) \n",
        "df.head()"
      ],
      "execution_count": null,
      "outputs": []
    },
    {
      "cell_type": "code",
      "metadata": {
        "id": "rk4R70u-fP_F"
      },
      "source": [
        "#@title Troubleshooting (See Your External IP Address)\n",
        "print(requests.get('http://icanhazip.com').text)"
      ],
      "execution_count": null,
      "outputs": []
    },
    {
      "cell_type": "markdown",
      "metadata": {
        "id": "QOAKo18Dz-M1"
      },
      "source": [
        "### Step 2: Process Your Data\n",
        "\n",
        "Here are a handful of cells that you can run to further process your data. Whichever cells you run are your choice, and overwrites the initial `df` dataframe, so be careful in what you choose to run. Currently supported operations:\n",
        "\n",
        "- Timeline binning\n",
        "\n",
        "- Event highlighting"
      ]
    },
    {
      "cell_type": "code",
      "metadata": {
        "id": "j0gw-hZ90AYH"
      },
      "source": [
        "#@title Processing Options (Run me!)\n",
        "# User configuration\n",
        "rolling_avg = 30 #@param {type:\"slider\", min:1, max:30, step:1}\n",
        "start_date_input = '2020-04-19' #@param {type:\"date\"}\n",
        "formatted_start_date = datetime.datetime.strptime(start_date_input, '%Y-%m-%d').strftime(\"%B-%d-%Y\")\n",
        "end_date_input = '2020-05-17' #@param {type:\"date\"}\n",
        "formatted_end_date = datetime.datetime.strptime(end_date_input, '%Y-%m-%d').strftime(\"%B-%d-%Y\")\n",
        "binning = 'WEEK' #@param [ 'MONTH', 'WEEK']\n"
      ],
      "execution_count": null,
      "outputs": []
    },
    {
      "cell_type": "code",
      "metadata": {
        "id": "SF3laVPnzJEu"
      },
      "source": [
        "#@title Data Processing (Run me!)\n",
        "# Just the prices, no metadata\n",
        "df2 = df.drop(df.columns[0:9], axis=1)\n",
        "\n",
        "# Create month binning\n",
        "if binning == 'MONTH':\n",
        "  # Quarter 1\n",
        "  january_bin = np.transpose(df[[col for col in df if col.startswith('01')]].T.to_numpy())\n",
        "  february_bin = np.transpose(df[[col for col in df if col.startswith('02')]].T.to_numpy())\n",
        "  march_bin = np.transpose(df[[col for col in df if col.startswith('03')]].T.to_numpy())\n",
        "  # Quarter 2 \n",
        "  april_bin = np.transpose(df[[col for col in df if col.startswith('04')]].T.to_numpy())\n",
        "  may_bin = np.transpose(df[[col for col in df if col.startswith('05')]].T.to_numpy())\n",
        "  june_bin = np.transpose(df[[col for col in df if col.startswith('06')]].T.to_numpy())\n",
        "  #  Quarter 3 \n",
        "  july_bin = np.transpose(df[[col for col in df if col.startswith('07')]].T.to_numpy())\n",
        "  august_bin = np.transpose(df[[col for col in df if col.startswith('08')]].T.to_numpy())\n",
        "  september_bin = np.transpose(df[[col for col in df if col.startswith('09')]].T.to_numpy())\n",
        "  # Quarter 4\n",
        "  october_bin = np.transpose(df[[col for col in df if col.startswith('10')]].T.to_numpy())\n",
        "  november_bin = np.transpose(df[[col for col in df if col.startswith('11')]].T.to_numpy())\n",
        "  december_bin = np.transpose(df[[col for col in df if col.startswith('12')]].T.to_numpy())\n",
        "  # Month names\n",
        "  months=[ \"Oct 2019\", \"Nov 2019\", \"Dec 2019\",\"Jan 2020\", \"Feb 2020\", \"Mar 2020\", \"Apr 2020\", \"May 2020\", \"Jun 2020\", \"Jul 2020\",\"Aug 2020\", \"Sep 2020\"]\n",
        "  # Bin array\n",
        "  month_bin_array = [october_bin,november_bin,december_bin,january_bin,february_bin,march_bin,april_bin,may_bin,june_bin,july_bin,august_bin,september_bin]\n",
        "\n",
        "# Create week binning\n",
        "elif binning == 'WEEK':\n",
        "  week_bin_array = []\n",
        "  day_count = 0\n",
        "  week_count = -1\n",
        "  for col in df2:\n",
        "    if day_count % 7 == 0:\n",
        "        week_count+=1\n",
        "        week_bin_array.append([])\n",
        "    week_bin_array[week_count].append(df2[col].T.to_numpy())\n",
        "    day_count +=1  \n",
        "\n",
        "  for week_num in range(0, len(week_bin_array)):\n",
        "    week_bin_array[week_num] = np.transpose(week_bin_array[week_num])\n",
        "\n",
        "\n",
        "new_columns = df['model_number'].str.cat(df['canonical_name'],sep=\" \")\n",
        "new_columns = new_columns.str.cat(df['colorway'],sep=\" \")\n",
        "\n",
        "df2=df2.T\n",
        "df2.columns=new_columns.T.to_numpy()\n",
        "df2.index = pd.to_datetime(df2.index)\n",
        "df2.head()\n",
        "\n",
        "df2 = df2.rolling(rolling_avg).mean() #seven day rolling average\n"
      ],
      "execution_count": null,
      "outputs": []
    },
    {
      "cell_type": "markdown",
      "metadata": {
        "id": "1Q4KiHkt0BBi"
      },
      "source": [
        "### Step 3: Visualize!\n"
      ]
    },
    {
      "cell_type": "code",
      "metadata": {
        "id": "zOwIBM6VzeYr"
      },
      "source": [
        "#@title Visualization 1: Time Series Composite Line Chart w/ Event Highlighting (Run me!)\n",
        "df2.plot()\n",
        "top = int(plot.gca().get_ylim()[1])\n",
        "plot.axvline(pd.to_datetime(start_date_input), color='k', linestyle='--', lw=2,label='Documentary Start Date ('+formatted_start_date+')')\n",
        "plot.axvline(pd.to_datetime(end_date_input), color='k', linestyle='--', lw=2,label='Documentary End Date (' + formatted_end_date + ')')\n",
        "plot.text(x='2020-04-19',y=0,s='Start Date',horizontalalignment='right',fontweight='bold',rotation=45,fontsize='large')\n",
        "plot.text(x='2020-05-17',y=0,s='End Date',horizontalalignment='left',fontweight='bold',rotation=45,fontsize='large')\n",
        "fig=plot.gcf()\n",
        "fig.set_size_inches(25,10)\n",
        "\n",
        "_=plot.legend(bbox_to_anchor=(1.02,1),title='Shoe Name',title_fontsize='x-large',loc=\"upper left\",labelspacing=1.6)\n",
        "_=plot.ylabel('Average Resale Price ($)',fontsize=18)\n",
        "_=plot.xlabel('Month of Year',fontsize=18)\n",
        "_=plot.grid(True)\n",
        "_=plot.title('Average Resale Price of User Selected Sneakers',fontsize=26)\n"
      ],
      "execution_count": null,
      "outputs": []
    },
    {
      "cell_type": "code",
      "metadata": {
        "id": "6Fya8RoqzlJq"
      },
      "source": [
        "#@title Visualization 2: Time Series Box and Whisker Plot (Run me!)\n",
        "if binning == 'MONTH':\n",
        "  for shoe_select in range(0, len(df[\"model_number\"])):\n",
        "    selected = []\n",
        "    for i in month_bin_array:\n",
        "      selected.append(i[shoe_select])\n",
        "    plt.boxplot(selected)\n",
        "    plt.xticks(range(1, len(month_bin_array)+1), months, rotation='vertical')\n",
        "    plt.title(df[\"model_number\"][shoe_select] + \" \" + df[\"canonical_name\"][shoe_select] + \" Sales Per Month\")\n",
        "    plt.show()\n",
        "\n",
        "elif binning == 'WEEK':\n",
        "  for shoe_select in range(0, len(df[\"model_number\"])):\n",
        "    selected = []\n",
        "    for i in week_bin_array:\n",
        "      selected.append(i[shoe_select])\n",
        "    plot.boxplot(selected)\n",
        "    plot.title(df[\"model_number\"][shoe_select] + \" \" + df[\"canonical_name\"][shoe_select] + \" Sales Per Week Since Oct 2019\")\n",
        "    _=plot.ylabel('Average Resale Price ($)',fontsize=18)\n",
        "    _=plot.xlabel('Week of Year',fontsize=18) \n",
        "    plot.show()"
      ],
      "execution_count": null,
      "outputs": []
    }
  ]
}